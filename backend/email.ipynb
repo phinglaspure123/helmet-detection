{
 "cells": [
  {
   "cell_type": "code",
   "execution_count": 6,
   "metadata": {},
   "outputs": [
    {
     "name": "stdout",
     "output_type": "stream",
     "text": [
      "Connecting to the SMTP server...\n",
      "Logging in to the SMTP server...\n",
      "Sending the email...\n",
      "Email sent successfully!\n",
      "Logging out from the SMTP server...\n"
     ]
    }
   ],
   "source": [
    "import smtplib\n",
    "from email.mime.multipart import MIMEMultipart\n",
    "from email.mime.application import MIMEApplication\n",
    "from email.mime.text import MIMEText\n",
    "import os\n",
    "import ssl\n",
    "\n",
    "def send_pdf_email(sender_email, app_password, receiver_email, pdf_file_path, subject=\"PDF Document\", body=\"Please find the attached PDF document.\"):\n",
    "    \"\"\"\n",
    "    Send a PDF file via email from a Gmail account using App Password.\n",
    "    \"\"\"\n",
    "    try:\n",
    "        # Check if the PDF file exists\n",
    "        if not os.path.exists(pdf_file_path):\n",
    "            print(f\"Error: PDF file {pdf_file_path} does not exist.\")\n",
    "            return False\n",
    "\n",
    "        # Create the email message\n",
    "        msg = MIMEMultipart()\n",
    "        msg['From'] = sender_email\n",
    "        msg['To'] = receiver_email\n",
    "        msg['Subject'] = subject\n",
    "        \n",
    "        # Add body text\n",
    "        msg.attach(MIMEText(body, 'plain'))\n",
    "\n",
    "        # Attach the PDF file\n",
    "        with open(pdf_file_path, 'rb') as f:\n",
    "            pdf_attachment = MIMEApplication(f.read(), _subtype=\"pdf\")\n",
    "            pdf_attachment.add_header('Content-Disposition', 'attachment', \n",
    "                                     filename=os.path.basename(pdf_file_path))\n",
    "            msg.attach(pdf_attachment)\n",
    "\n",
    "        # Connect to the Gmail SMTP server\n",
    "        print(\"Connecting to the SMTP server...\")\n",
    "        server = smtplib.SMTP_SSL('smtp.gmail.com', 465)\n",
    "        \n",
    "        # Login to the server\n",
    "        print(\"Logging in to the SMTP server...\")\n",
    "        server.login(sender_email, app_password)\n",
    "\n",
    "        # Send the email\n",
    "        print(\"Sending the email...\")\n",
    "        server.send_message(msg)\n",
    "        print(\"Email sent successfully!\")\n",
    "\n",
    "        # Logout from the server\n",
    "        print(\"Logging out from the SMTP server...\")\n",
    "        server.quit()\n",
    "        return True\n",
    "\n",
    "    except Exception as e:\n",
    "        print(f\"Error: {e}\")\n",
    "        return False\n",
    "\n",
    "# Example usage\n",
    "if __name__ == \"__main__\":\n",
    "    # Replace this with your App Password, not your regular password\n",
    "    send_pdf_email(\n",
    "        sender_email=\"helmetdetection12@gmail.com\",\n",
    "        app_password=\"auzj iroi oidh islh\",  # App Password should look like this\n",
    "        receiver_email=\"phinglaspure123@gmail.com\",\n",
    "        pdf_file_path=r\"challans\\challan_011f19be-4a26-4327-90ae-506c49650945.pdf\"\n",
    "    )"
   ]
  }
 ],
 "metadata": {
  "kernelspec": {
   "display_name": "Python 3",
   "language": "python",
   "name": "python3"
  },
  "language_info": {
   "codemirror_mode": {
    "name": "ipython",
    "version": 3
   },
   "file_extension": ".py",
   "mimetype": "text/x-python",
   "name": "python",
   "nbconvert_exporter": "python",
   "pygments_lexer": "ipython3",
   "version": "3.10.11"
  }
 },
 "nbformat": 4,
 "nbformat_minor": 2
}
